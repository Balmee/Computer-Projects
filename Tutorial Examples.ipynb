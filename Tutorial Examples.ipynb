{
 "cells": [
  {
   "cell_type": "markdown",
   "metadata": {},
   "source": [
    "# USE: conda create -n myenv python=3.10 pandas jupyter seaborn scikit-learn keras tensorflow  -For myenv"
   ]
  },
  {
   "cell_type": "markdown",
   "metadata": {},
   "source": [
    "# To Commit and Push work: git commit -m \"Your commit message\" - In terminal"
   ]
  }
 ],
 "metadata": {
  "language_info": {
   "name": "python"
  }
 },
 "nbformat": 4,
 "nbformat_minor": 2
}
