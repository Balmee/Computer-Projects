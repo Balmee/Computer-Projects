{
    "cells": [
     {
      "cell_type": "code",
      "execution_count": 1,
      "metadata": {},
      "outputs": [],
      "source": [
       "import pandas as pd"
      ]
     },
     {
      "cell_type": "code",
      "execution_count": 2,
      "metadata": {},
      "outputs": [],
      "source": [
       "# Given data\n",
       "data = {\n",
       "    \"Business Name\": [\"Holborn Cafe\"],\n",
       "    \"Postcode\": [\"WC1A 1AB\"],\n",
       "    \"Phone Number\": [\"020 1234 5678\"],\n",
       "    \"Social Media\": [\"facebook.com/holborncafe\"],\n",
       "    \"Business Hours\": [\"Mon-Fri: 8 AM - 6 PM, Sat: 9 AM - 4 PM, Sun: Closed\"]\n",
       "}"
      ]
     },
     {
      "cell_type": "code",
      "execution_count": 3,
      "metadata": {},
      "outputs": [],
      "source": [
       "# Create a Pandas DataFrame\n",
       "df = pd.DataFrame(data)"
      ]
     },
     {
      "cell_type": "code",
      "execution_count": 4,
      "metadata": {},
      "outputs": [],
      "source": [
       "# Standardize data\n",
       "df[\"Postcode\"] = df[\"Postcode\"].str.replace(\" \", \"\").str.upper()\n",
       "df[\"Phone Number\"] = df[\"Phone Number\"].str.replace(\" \", \"\").str.replace(\"-\", \"\", regex=True)\n",
       "df[\"Social Media\"] = df[\"Social Media\"].str.replace(\"www.\", \"\", regex=True)\n",
       "# Assuming you want to standardize the time format in Business Hours\n",
       "df[\"Business Hours\"] = df[\"Business Hours\"].str.replace(\"AM\", \" AM\", regex=True).str.replace(\"PM\", \" PM\", regex=True).str.replace(\"-\", \" - \", regex=True)"
      ]
     },
     {
      "cell_type": "code",
      "execution_count": 5,
      "metadata": {},
      "outputs": [],
      "source": [
       "# Extracting Business Hours for each day\n",
       "days = [\"Mon\", \"Tue\", \"Wed\", \"Thu\", \"Fri\", \"Sat\", \"Sun\"]\n",
       "hours = []\n",
       "for day in days:\n",
       "    hours.append(df[\"Business Hours\"].str.extract(r'{}: (.*?)(,|$)'.format(day))[0])"
      ]
     },
     {
      "cell_type": "code",
      "execution_count": 6,
      "metadata": {},
      "outputs": [],
      "source": [
       "# Creating separate columns for each day\n",
       "for i, day in enumerate(days):\n",
       "    df[day] = hours[i]\n"
      ]
     },
     {
      "cell_type": "code",
      "execution_count": 7,
      "metadata": {},
      "outputs": [],
      "source": [
       "# Renaming columns for clarity\n",
       "df.columns = [\"Business Name\", \"Postcode\", \"Phone Number\", \"Social Media\", \"Business Hours\", \"Mon\", \"Tue\", \"Wed\", \"Thu\", \"Fri\", \"Sat\", \"Sun\"]"
      ]
     },
     {
      "cell_type": "code",
      "execution_count": 8,
      "metadata": {},
      "outputs": [
       {
        "name": "stdout",
        "output_type": "stream",
        "text": [
         "  Business Name Postcode Phone Number              Social Media  \\\n",
         "0  Holborn Cafe  WC1A1AB  02012345678  facebook.com/holborncafe   \n",
         "\n",
         "                                      Business Hours  Mon  Tue  Wed  Thu  \\\n",
         "0  Mon - Fri: 8  AM  -  6  PM, Sat: 9  AM  -  4  ...  NaN  NaN  NaN  NaN   \n",
         "\n",
         "               Fri              Sat     Sun  \n",
         "0  8  AM  -  6  PM  9  AM  -  4  PM  Closed  \n"
        ]
       }
      ],
      "source": [
       "# Standardized DataFrame\n",
       "print(df)"
      ]
     },
     {
      "cell_type": "code",
      "execution_count": 9,
      "metadata": {},
      "outputs": [
       {
        "name": "stdout",
        "output_type": "stream",
        "text": [
         "Requirement already satisfied: openpyxl in /Users/Yadira/.pyenv/versions/3.7.3/lib/python3.7/site-packages (3.1.2)\n",
         "Requirement already satisfied: et-xmlfile in /Users/Yadira/.pyenv/versions/3.7.3/lib/python3.7/site-packages (from openpyxl) (1.1.0)\n",
         "\u001b[33mWARNING: You are using pip version 22.0.4; however, version 23.2.1 is available.\n",
         "You should consider upgrading via the '/Users/Yadira/.pyenv/versions/3.7.3/bin/python -m pip install --upgrade pip' command.\u001b[0m\u001b[33m\n",
         "\u001b[0mNote: you may need to restart the kernel to use updated packages.\n"
        ]
       }
      ],
      "source": [
       "pip install openpyxl\n"
      ]
     },
     {
      "cell_type": "code",
      "execution_count": 10,
      "metadata": {},
      "outputs": [],
      "source": [
       "# Write DataFrame to an Excel file\n",
       "df.to_excel('output.xlsx', index=False)\n"
      ]
     }
    ],
    "metadata": {
     "kernelspec": {
      "display_name": "Python 3",
      "language": "python",
      "name": "python3"
     },
     "language_info": {
      "codemirror_mode": {
       "name": "ipython",
       "version": 3
      },
      "file_extension": ".py",
      "mimetype": "text/x-python",
      "name": "python",
      "nbconvert_exporter": "python",
      "pygments_lexer": "ipython3",
      "version": "3.7.3"
     },
     "orig_nbformat": 4,
     "vscode": {
      "interpreter": {
       "hash": "f94eebbdbcbf9e465c0fffd07e44f9c0ed7d85636a5e85396baa8bc5d92682ab"
      }
     }
    },
    "nbformat": 4,
    "nbformat_minor": 2
   }