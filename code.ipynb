{
 "cells": [
  {
   "cell_type": "code",
   "execution_count": 57,
   "metadata": {},
   "outputs": [],
   "source": [
    "import pandas as pd"
   ]
  },
  {
   "cell_type": "code",
   "execution_count": 58,
   "metadata": {},
   "outputs": [],
   "source": [
    "# Given data\n",
    "data = {\n",
    "    \"Business Name\": [\"Holborn Cafe\", \"Pret\", \"Starbucks\", \"Gregs\", \"Benugo\", \"Leon\", \"Gails\", \"Pho 82\"],\n",
    "    \"Postcode\": [\"WC1A 1AB\", \"WC1V 7EY\", \"WC1V 7EY\", \"WC1V 6DR\", \"EC1N 2NS\", \"WC1V 6AZ\", \"WC1V 6LS\", \"WC1V 7DX\"],\n",
    "    \"Phone Number\": [\"020 1234 5678\", \"N/A\", \"N/A\", \"N/A\", \"N/A\", \"N/A\", \"N/A\", \"02033026890\"],\n",
    "    \"Social Media\": [\"facebook.com/holborncafe\", \"Instagram.com/pret\", \"Instagram.com/starbucks\", \"Instagram.com/gregs\", \"Instagram.com/benugo\", \"Instagram.com/leonrestaurants\", \"Instagram.com/gails\", \"N/A\"],\n",
    "    \"Business Hours\": [\"Mon-Fri: 8 AM - 6 PM, Sat: 9 AM - 4 PM, Sun: Closed\", \"Mon-Thur: 6.30 AM - 7 PM, Fri: 6.30 AM - 5.30 PM, Sat: 8.30 AM - 5 PM, Sun: closed\", \"Mon - Fri: 6 AM - 7PM, Sat: 7AM - 7PM, Sun: 9AM - 5PM\", \"Mon - Fri: 6 AM - 6PM, Sat: 7 AM - 4PM, Sun: closed\", \"Mon - Thu: 7.30 AM- 5PM, Fri: 7 AM - 4 PM, Sat - Sun: Closed\", \"Mon - Fri: 7.30 AM - 6 PM, Sat - Sun: Closed\", \"Mon - thu: 6.30 AM - 5.30 PM, Fri: 7 AM - 4.30 PM, Sat - Sun: 8 AM - 4.30 PM\", \"Mon - Fri: 11 AM - 5 PM, Sat - Sun: Closed\"]\n",
    "}"
   ]
  },
  {
   "cell_type": "code",
   "execution_count": 59,
   "metadata": {},
   "outputs": [],
   "source": [
    "# Create a Pandas DataFrame\n",
    "df = pd.DataFrame(data)"
   ]
  },
  {
   "cell_type": "code",
   "execution_count": 60,
   "metadata": {},
   "outputs": [],
   "source": [
    "# Standardize data\n",
    "df[\"Postcode\"] = df[\"Postcode\"].str.replace(\" \", \"\").str.upper()\n",
    "df[\"Phone Number\"] = df[\"Phone Number\"].str.replace(\" \", \"\").str.replace(\"-\", \"\", regex=True)\n",
    "df[\"Social Media\"] = df[\"Social Media\"].str.replace(\"www.\", \"\", regex=True)\n",
    "# Assuming you want to standardize the time format in Business Hours\n",
    "df[\"Business Hours\"] = df[\"Business Hours\"].str.replace(\"AM\", \" AM\", regex=True).str.replace(\"PM\", \" PM\", regex=True).str.replace(\"-\", \" - \", regex=True)"
   ]
  },
  {
   "cell_type": "code",
   "execution_count": 61,
   "metadata": {},
   "outputs": [],
   "source": [
    "# Extracting Business Hours for each day\n",
    "days = [\"Mon\", \"Tue\", \"Wed\", \"Thu\", \"Fri\", \"Sat\", \"Sun\"]\n",
    "hours = []\n",
    "for day in days:\n",
    "    hours.append(df[\"Business Hours\"].str.extract(r'{}: (.*?)(,|$)'.format(day))[0])"
   ]
  },
  {
   "cell_type": "code",
   "execution_count": 62,
   "metadata": {},
   "outputs": [],
   "source": [
    "# Creating separate columns for each day\n",
    "for i, day in enumerate(days):\n",
    "    df[day] = hours[i]\n"
   ]
  },
  {
   "cell_type": "code",
   "execution_count": 63,
   "metadata": {},
   "outputs": [],
   "source": [
    "# Renaming columns for clarity\n",
    "df.columns = [\"Business Name\", \"Postcode\", \"Phone Number\", \"Social Media\", \"Business Hours\", \"Mon\", \"Tue\", \"Wed\", \"Thu\", \"Fri\", \"Sat\", \"Sun\"]"
   ]
  },
  {
   "cell_type": "code",
   "execution_count": 64,
   "metadata": {},
   "outputs": [
    {
     "name": "stdout",
     "output_type": "stream",
     "text": [
      "  Business Name Postcode Phone Number                   Social Media  \\\n",
      "0  Holborn Cafe  WC1A1AB  02012345678       facebook.com/holborncafe   \n",
      "1          Pret  WC1V7EY          N/A             Instagram.com/pret   \n",
      "2     Starbucks  WC1V7EY          N/A        Instagram.com/starbucks   \n",
      "3         Gregs  WC1V6DR          N/A            Instagram.com/gregs   \n",
      "4        Benugo  EC1N2NS          N/A           Instagram.com/benugo   \n",
      "5          Leon  WC1V6AZ          N/A  Instagram.com/leonrestaurants   \n",
      "6         Gails  WC1V6LS          N/A            Instagram.com/gails   \n",
      "7        Pho 82  WC1V7DX  02033026890                            N/A   \n",
      "\n",
      "                                      Business Hours  Mon  Tue  Wed  \\\n",
      "0  Mon - Fri: 8  AM  -  6  PM, Sat: 9  AM  -  4  ...  NaN  NaN  NaN   \n",
      "1  Mon - Thur: 6.30  AM  -  7  PM, Fri: 6.30  AM ...  NaN  NaN  NaN   \n",
      "2  Mon  -  Fri: 6  AM  -  7 PM, Sat: 7 AM  -  7 P...  NaN  NaN  NaN   \n",
      "3  Mon  -  Fri: 6  AM  -  6 PM, Sat: 7  AM  -  4 ...  NaN  NaN  NaN   \n",
      "4  Mon  -  Thu: 7.30  AM -  5 PM, Fri: 7  AM  -  ...  NaN  NaN  NaN   \n",
      "5  Mon  -  Fri: 7.30  AM  -  6  PM, Sat  -  Sun: ...  NaN  NaN  NaN   \n",
      "6  Mon  -  thu: 6.30  AM  -  5.30  PM, Fri: 7  AM...  NaN  NaN  NaN   \n",
      "7  Mon  -  Fri: 11  AM  -  5  PM, Sat  -  Sun: Cl...  NaN  NaN  NaN   \n",
      "\n",
      "                Thu                    Fri                 Sat  \\\n",
      "0               NaN        8  AM  -  6  PM     9  AM  -  4  PM   \n",
      "1               NaN  6.30  AM  -  5.30  PM  8.30  AM  -  5  PM   \n",
      "2               NaN         6  AM  -  7 PM       7 AM  -  7 PM   \n",
      "3               NaN         6  AM  -  6 PM      7  AM  -  4 PM   \n",
      "4  7.30  AM -  5 PM        7  AM  -  4  PM                 NaN   \n",
      "5               NaN     7.30  AM  -  6  PM                 NaN   \n",
      "6               NaN     7  AM  -  4.30  PM                 NaN   \n",
      "7               NaN       11  AM  -  5  PM                 NaN   \n",
      "\n",
      "                  Sun  \n",
      "0              Closed  \n",
      "1              closed  \n",
      "2       9 AM  -  5 PM  \n",
      "3              closed  \n",
      "4              Closed  \n",
      "5              Closed  \n",
      "6  8  AM  -  4.30  PM  \n",
      "7              Closed  \n"
     ]
    }
   ],
   "source": [
    "# Standardized DataFrame\n",
    "print(df)"
   ]
  },
  {
   "cell_type": "code",
   "execution_count": 65,
   "metadata": {},
   "outputs": [
    {
     "name": "stdout",
     "output_type": "stream",
     "text": [
      "Requirement already satisfied: openpyxl in c:\\users\\user\\anaconda3\\lib\\site-packages (3.0.10)\n",
      "Requirement already satisfied: et_xmlfile in c:\\users\\user\\anaconda3\\lib\\site-packages (from openpyxl) (1.1.0)\n",
      "Note: you may need to restart the kernel to use updated packages.\n"
     ]
    }
   ],
   "source": [
    "pip install openpyxl\n"
   ]
  },
  {
   "cell_type": "code",
   "execution_count": 66,
   "metadata": {},
   "outputs": [],
   "source": [
    "# Write DataFrame to an Excel file\n",
    "df.to_excel('output.xlsx', index=False)\n"
   ]
  }
 ],
 "metadata": {
  "kernelspec": {
   "display_name": "Python 3",
   "language": "python",
   "name": "python3"
  },
  "language_info": {
   "codemirror_mode": {
    "name": "ipython",
    "version": 3
   },
   "file_extension": ".py",
   "mimetype": "text/x-python",
   "name": "python",
   "nbconvert_exporter": "python",
   "pygments_lexer": "ipython3",
   "version": "3.11.5"
  },
  "orig_nbformat": 4,
  "vscode": {
   "interpreter": {
    "hash": "f94eebbdbcbf9e465c0fffd07e44f9c0ed7d85636a5e85396baa8bc5d92682ab"
   }
  }
 },
 "nbformat": 4,
 "nbformat_minor": 2
}
